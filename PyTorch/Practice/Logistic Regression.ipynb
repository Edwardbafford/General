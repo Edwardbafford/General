{
 "cells": [
  {
   "cell_type": "code",
   "execution_count": 2,
   "metadata": {},
   "outputs": [],
   "source": [
    "import torch\n",
    "import torch.nn as nn\n",
    "import torchvision\n",
    "import torchvision.transforms as transforms"
   ]
  },
  {
   "cell_type": "code",
   "execution_count": 1,
   "metadata": {},
   "outputs": [],
   "source": [
    "# Hyper-parameters \n",
    "input_size = 28 * 28\n",
    "num_classes = 10\n",
    "num_epochs = 5\n",
    "batch_size = 100\n",
    "learning_rate = 0.001"
   ]
  },
  {
   "cell_type": "code",
   "execution_count": 4,
   "metadata": {},
   "outputs": [],
   "source": [
    "# MNIST datasets (images and labels)\n",
    "train_dataset = torchvision.datasets.MNIST(root='/data', train=True, transform=transforms.ToTensor(), download=True)\n",
    "test_dataset = torchvision.datasets.MNIST(root='/data', train=False, transform=transforms.ToTensor())\n",
    "\n",
    "# Data loaders (input pipeline)\n",
    "train_loader = torch.utils.data.DataLoader(dataset=train_dataset, batch_size=batch_size, shuffle=True)\n",
    "test_loader = torch.utils.data.DataLoader(dataset=test_dataset, batch_size=batch_size, shuffle=False)"
   ]
  },
  {
   "cell_type": "code",
   "execution_count": 11,
   "metadata": {},
   "outputs": [],
   "source": [
    "# Logistic regression model\n",
    "log_reg = nn.Linear(input_size, num_classes)\n",
    "criterion = nn.CrossEntropyLoss()  \n",
    "optimizer = torch.optim.SGD(log_reg.parameters(), lr=learning_rate)  "
   ]
  },
  {
   "cell_type": "code",
   "execution_count": 13,
   "metadata": {
    "scrolled": true
   },
   "outputs": [
    {
     "name": "stdout",
     "output_type": "stream",
     "text": [
      "Epoch [1/5], Step [100/600], Loss: 2.1832\n",
      "Epoch [1/5], Step [200/600], Loss: 2.0836\n",
      "Epoch [1/5], Step [300/600], Loss: 1.9828\n",
      "Epoch [1/5], Step [400/600], Loss: 1.9463\n",
      "Epoch [1/5], Step [500/600], Loss: 1.8352\n",
      "Epoch [1/5], Step [600/600], Loss: 1.7829\n",
      "Epoch [2/5], Step [100/600], Loss: 1.7086\n",
      "Epoch [2/5], Step [200/600], Loss: 1.6183\n",
      "Epoch [2/5], Step [300/600], Loss: 1.6203\n",
      "Epoch [2/5], Step [400/600], Loss: 1.5189\n",
      "Epoch [2/5], Step [500/600], Loss: 1.5153\n",
      "Epoch [2/5], Step [600/600], Loss: 1.4592\n",
      "Epoch [3/5], Step [100/600], Loss: 1.3386\n",
      "Epoch [3/5], Step [200/600], Loss: 1.3817\n",
      "Epoch [3/5], Step [300/600], Loss: 1.2667\n",
      "Epoch [3/5], Step [400/600], Loss: 1.2673\n",
      "Epoch [3/5], Step [500/600], Loss: 1.3353\n",
      "Epoch [3/5], Step [600/600], Loss: 1.2145\n",
      "Epoch [4/5], Step [100/600], Loss: 1.1648\n",
      "Epoch [4/5], Step [200/600], Loss: 1.2073\n",
      "Epoch [4/5], Step [300/600], Loss: 1.1750\n",
      "Epoch [4/5], Step [400/600], Loss: 1.1716\n",
      "Epoch [4/5], Step [500/600], Loss: 1.1239\n",
      "Epoch [4/5], Step [600/600], Loss: 1.1052\n",
      "Epoch [5/5], Step [100/600], Loss: 1.0990\n",
      "Epoch [5/5], Step [200/600], Loss: 0.9637\n",
      "Epoch [5/5], Step [300/600], Loss: 1.0598\n",
      "Epoch [5/5], Step [400/600], Loss: 1.1215\n",
      "Epoch [5/5], Step [500/600], Loss: 1.0349\n",
      "Epoch [5/5], Step [600/600], Loss: 1.0254\n"
     ]
    }
   ],
   "source": [
    "# Train the model\n",
    "total_step = len(train_loader)\n",
    "for epoch in range(num_epochs):\n",
    "    for i, (images, labels) in enumerate(train_loader):\n",
    "        # Reshape images to (batch_size, input_size)\n",
    "        images = images.reshape(-1, input_size)\n",
    "        \n",
    "        # Forward pass\n",
    "        outputs = log_reg(images)\n",
    "        loss = criterion(outputs, labels)\n",
    "        \n",
    "        # Backward and optimize\n",
    "        optimizer.zero_grad()\n",
    "        loss.backward()\n",
    "        optimizer.step()\n",
    "        \n",
    "        if (i+1) % 100 == 0:\n",
    "            print ('Epoch [{}/{}], Step [{}/{}], Loss: {:.4f}' \n",
    "                   .format(epoch+1, num_epochs, i+1, total_step, loss.item()))"
   ]
  },
  {
   "cell_type": "code",
   "execution_count": 15,
   "metadata": {},
   "outputs": [
    {
     "name": "stdout",
     "output_type": "stream",
     "text": [
      "Accuracy of the model on the 10000 test images: 82 %\n"
     ]
    }
   ],
   "source": [
    "# Test the model\n",
    "with torch.no_grad():\n",
    "    correct = 0\n",
    "    total = 0\n",
    "    for images, labels in test_loader:\n",
    "        images = images.reshape(-1, input_size)\n",
    "        outputs = log_reg(images)\n",
    "        _, predicted = torch.max(outputs.data, 1)\n",
    "        total += labels.size(0)\n",
    "        correct += (predicted == labels).sum()\n",
    "\n",
    "    print('Accuracy of the model on the 10000 test images: {} %'.format(100 * correct / total))"
   ]
  },
  {
   "cell_type": "code",
   "execution_count": null,
   "metadata": {},
   "outputs": [],
   "source": []
  },
  {
   "cell_type": "code",
   "execution_count": null,
   "metadata": {},
   "outputs": [],
   "source": []
  },
  {
   "cell_type": "code",
   "execution_count": null,
   "metadata": {},
   "outputs": [],
   "source": []
  },
  {
   "cell_type": "code",
   "execution_count": null,
   "metadata": {},
   "outputs": [],
   "source": []
  }
 ],
 "metadata": {
  "kernelspec": {
   "display_name": "Python 3",
   "language": "python",
   "name": "python3"
  },
  "language_info": {
   "codemirror_mode": {
    "name": "ipython",
    "version": 3
   },
   "file_extension": ".py",
   "mimetype": "text/x-python",
   "name": "python",
   "nbconvert_exporter": "python",
   "pygments_lexer": "ipython3",
   "version": "3.7.4"
  }
 },
 "nbformat": 4,
 "nbformat_minor": 2
}
