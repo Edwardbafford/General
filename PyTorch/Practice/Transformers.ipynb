{
 "cells": [
  {
   "cell_type": "code",
   "execution_count": 3,
   "metadata": {},
   "outputs": [],
   "source": [
    "import numpy as np\n",
    "import torch\n",
    "import torch.nn as nn\n",
    "import torchvision\n",
    "import torchvision.transforms as transforms\n",
    "from PIL import Image"
   ]
  },
  {
   "cell_type": "code",
   "execution_count": 4,
   "metadata": {},
   "outputs": [
    {
     "name": "stdout",
     "output_type": "stream",
     "text": [
      "[[-0.62199167 -0.7735974 ]\n",
      " [ 0.12255782 -0.75580409]]\n",
      "(2, 2)\n",
      "[[ 0.          0.          0.          0.        ]\n",
      " [ 0.         -0.6219917  -0.7735974   0.        ]\n",
      " [ 0.          0.12255782 -0.75580406  0.        ]\n",
      " [ 0.          0.          0.          0.        ]]\n",
      "(4, 4)\n"
     ]
    }
   ],
   "source": [
    "# Pad\n",
    "\n",
    "np_im = np.random.randn(2,2)\n",
    "im = Image.fromarray(np_im)\n",
    "\n",
    "t1 = transforms.Pad(1)\n",
    "np_im_t1 = np.array(t1(im))\n",
    "print(np_im, np_im.shape, np_im_t1, np_im_t1.shape, sep='\\n')"
   ]
  },
  {
   "cell_type": "code",
   "execution_count": 12,
   "metadata": {},
   "outputs": [
    {
     "name": "stdout",
     "output_type": "stream",
     "text": [
      "[[-0.74864005 -0.32353535]\n",
      " [ 0.81333614 -1.80483462]]\n",
      "\n",
      "[[-0.32353535 -0.74864006]\n",
      " [-1.8048346   0.81333613]]\n",
      "\n",
      "[[-0.32353535 -0.74864006]\n",
      " [-1.8048346   0.81333613]]\n",
      "\n",
      "[[-0.74864006 -0.32353535]\n",
      " [ 0.81333613 -1.8048346 ]]\n",
      "\n",
      "[[-0.32353535 -0.74864006]\n",
      " [-1.8048346   0.81333613]]\n",
      "\n",
      "[[-0.74864006 -0.32353535]\n",
      " [ 0.81333613 -1.8048346 ]]\n",
      "\n"
     ]
    }
   ],
   "source": [
    "# Random Flip\n",
    "\n",
    "np_im = np.random.randn(2,2)\n",
    "im = Image.fromarray(np_im)\n",
    "\n",
    "print(np_im, end='\\n\\n')\n",
    "\n",
    "t2 = transforms.RandomHorizontalFlip()\n",
    "for i in range(5):\n",
    "    print(np.array(t2(im)), end='\\n\\n')"
   ]
  },
  {
   "cell_type": "code",
   "execution_count": 16,
   "metadata": {},
   "outputs": [
    {
     "name": "stdout",
     "output_type": "stream",
     "text": [
      "[[-0.46652568  0.00542622  0.112532  ]\n",
      " [ 0.0189407   1.06213285 -0.3374066 ]\n",
      " [-0.94623909  0.89980614  1.08762077]]\n",
      "\n",
      "[[0.112532]]\n",
      "\n",
      "[[0.00542622]]\n",
      "\n",
      "[[0.89980614]]\n",
      "\n",
      "[[-0.46652567]]\n",
      "\n",
      "[[1.0621328]]\n",
      "\n"
     ]
    }
   ],
   "source": [
    "# Random Crop\n",
    "\n",
    "np_im = np.random.randn(3,3)\n",
    "im = Image.fromarray(np_im)\n",
    "print(np_im, end='\\n\\n')\n",
    "\n",
    "t3 = transforms.RandomCrop(1)\n",
    "for i in range(5):\n",
    "    print(np.array(t3(im)), end='\\n\\n')\n"
   ]
  },
  {
   "cell_type": "code",
   "execution_count": null,
   "metadata": {},
   "outputs": [],
   "source": []
  },
  {
   "cell_type": "code",
   "execution_count": null,
   "metadata": {},
   "outputs": [],
   "source": []
  },
  {
   "cell_type": "code",
   "execution_count": null,
   "metadata": {},
   "outputs": [],
   "source": []
  },
  {
   "cell_type": "code",
   "execution_count": null,
   "metadata": {},
   "outputs": [],
   "source": []
  },
  {
   "cell_type": "code",
   "execution_count": null,
   "metadata": {},
   "outputs": [],
   "source": []
  },
  {
   "cell_type": "code",
   "execution_count": null,
   "metadata": {},
   "outputs": [],
   "source": []
  },
  {
   "cell_type": "code",
   "execution_count": null,
   "metadata": {},
   "outputs": [],
   "source": []
  },
  {
   "cell_type": "code",
   "execution_count": null,
   "metadata": {},
   "outputs": [],
   "source": []
  },
  {
   "cell_type": "code",
   "execution_count": null,
   "metadata": {},
   "outputs": [],
   "source": []
  },
  {
   "cell_type": "code",
   "execution_count": null,
   "metadata": {},
   "outputs": [],
   "source": []
  },
  {
   "cell_type": "code",
   "execution_count": null,
   "metadata": {},
   "outputs": [],
   "source": []
  },
  {
   "cell_type": "code",
   "execution_count": null,
   "metadata": {},
   "outputs": [],
   "source": []
  },
  {
   "cell_type": "code",
   "execution_count": null,
   "metadata": {},
   "outputs": [],
   "source": []
  },
  {
   "cell_type": "code",
   "execution_count": null,
   "metadata": {},
   "outputs": [],
   "source": []
  },
  {
   "cell_type": "code",
   "execution_count": null,
   "metadata": {},
   "outputs": [],
   "source": []
  },
  {
   "cell_type": "code",
   "execution_count": null,
   "metadata": {},
   "outputs": [],
   "source": []
  },
  {
   "cell_type": "code",
   "execution_count": null,
   "metadata": {},
   "outputs": [],
   "source": []
  },
  {
   "cell_type": "code",
   "execution_count": null,
   "metadata": {},
   "outputs": [],
   "source": []
  },
  {
   "cell_type": "code",
   "execution_count": null,
   "metadata": {},
   "outputs": [],
   "source": []
  },
  {
   "cell_type": "code",
   "execution_count": null,
   "metadata": {},
   "outputs": [],
   "source": []
  },
  {
   "cell_type": "code",
   "execution_count": null,
   "metadata": {},
   "outputs": [],
   "source": []
  },
  {
   "cell_type": "code",
   "execution_count": null,
   "metadata": {},
   "outputs": [],
   "source": []
  },
  {
   "cell_type": "code",
   "execution_count": null,
   "metadata": {},
   "outputs": [],
   "source": []
  },
  {
   "cell_type": "code",
   "execution_count": null,
   "metadata": {},
   "outputs": [],
   "source": []
  },
  {
   "cell_type": "code",
   "execution_count": null,
   "metadata": {},
   "outputs": [],
   "source": []
  },
  {
   "cell_type": "code",
   "execution_count": null,
   "metadata": {},
   "outputs": [],
   "source": []
  },
  {
   "cell_type": "code",
   "execution_count": null,
   "metadata": {},
   "outputs": [],
   "source": []
  },
  {
   "cell_type": "code",
   "execution_count": null,
   "metadata": {},
   "outputs": [],
   "source": []
  },
  {
   "cell_type": "code",
   "execution_count": null,
   "metadata": {},
   "outputs": [],
   "source": []
  },
  {
   "cell_type": "code",
   "execution_count": null,
   "metadata": {},
   "outputs": [],
   "source": []
  }
 ],
 "metadata": {
  "kernelspec": {
   "display_name": "Python 3",
   "language": "python",
   "name": "python3"
  },
  "language_info": {
   "codemirror_mode": {
    "name": "ipython",
    "version": 3
   },
   "file_extension": ".py",
   "mimetype": "text/x-python",
   "name": "python",
   "nbconvert_exporter": "python",
   "pygments_lexer": "ipython3",
   "version": "3.7.4"
  }
 },
 "nbformat": 4,
 "nbformat_minor": 2
}
