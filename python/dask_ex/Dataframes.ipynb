{
 "cells": [
  {
   "cell_type": "markdown",
   "metadata": {},
   "source": [
    "### Dataframes\n",
    "Similar to numpy arrays Dask has a library that lays on top of Pandas which parallelizes dataframe operations. See the speed increase between pandas and Dask"
   ]
  },
  {
   "cell_type": "code",
   "execution_count": 16,
   "metadata": {},
   "outputs": [],
   "source": [
    "import dask.dataframe as dd\n",
    "import pandas as pd\n",
    "\n",
    "df_link = 'https://raw.githubusercontent.com/mwaskom/seaborn-data/master/iris.csv'"
   ]
  },
  {
   "cell_type": "markdown",
   "metadata": {},
   "source": [
    "### Pandas"
   ]
  },
  {
   "cell_type": "code",
   "execution_count": 52,
   "metadata": {},
   "outputs": [
    {
     "name": "stdout",
     "output_type": "stream",
     "text": [
      "Wall time: 154 ms\n"
     ]
    },
    {
     "data": {
      "text/plain": [
       "2121.6580000000004"
      ]
     },
     "execution_count": 52,
     "metadata": {},
     "output_type": "execute_result"
    }
   ],
   "source": [
    "%%time\n",
    "\n",
    "df = pd.read_csv(df_link)\n",
    "\n",
    "total = 0.0\n",
    "\n",
    "for column in ['sepal_length', 'sepal_width', 'petal_length', 'petal_width']:\n",
    "    total += df[column].sum()\n",
    "    total += df[column].min()\n",
    "    total += df[column].max()\n",
    "    total += df[column].mean()\n",
    "\n",
    "total"
   ]
  },
  {
   "cell_type": "markdown",
   "metadata": {},
   "source": [
    "### Dask"
   ]
  },
  {
   "cell_type": "code",
   "execution_count": 53,
   "metadata": {},
   "outputs": [],
   "source": [
    "df = dd.read_csv(df_link)\n",
    "\n",
    "total = 0.0\n",
    "\n",
    "for column in ['sepal_length', 'sepal_width', 'petal_length', 'petal_width']:\n",
    "    total += df[column].sum()\n",
    "    total += df[column].min()\n",
    "    total += df[column].max()\n",
    "    total += df[column].mean()"
   ]
  },
  {
   "cell_type": "code",
   "execution_count": 54,
   "metadata": {},
   "outputs": [
    {
     "name": "stdout",
     "output_type": "stream",
     "text": [
      "Wall time: 44 ms\n"
     ]
    },
    {
     "data": {
      "text/plain": [
       "2121.6580000000004"
      ]
     },
     "execution_count": 54,
     "metadata": {},
     "output_type": "execute_result"
    }
   ],
   "source": [
    "%%time\n",
    "\n",
    "total.compute()"
   ]
  }
 ],
 "metadata": {
  "kernelspec": {
   "display_name": "Python 3",
   "language": "python",
   "name": "python3"
  },
  "language_info": {
   "codemirror_mode": {
    "name": "ipython",
    "version": 3
   },
   "file_extension": ".py",
   "mimetype": "text/x-python",
   "name": "python",
   "nbconvert_exporter": "python",
   "pygments_lexer": "ipython3",
   "version": "3.7.4"
  }
 },
 "nbformat": 4,
 "nbformat_minor": 2
}
