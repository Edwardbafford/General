{
 "cells": [
  {
   "cell_type": "markdown",
   "metadata": {},
   "source": [
    "### SparkSession\n",
    "* Encapsulates multiple contexts\n",
    "* One multiple sessions will share one of each context"
   ]
  },
  {
   "cell_type": "code",
   "execution_count": 9,
   "metadata": {},
   "outputs": [],
   "source": [
    "from pyspark.sql import SparkSession\n",
    "spark  = SparkSession.builder.master(\"local\").getOrCreate()\n",
    "sc = spark.sparkContext"
   ]
  },
  {
   "cell_type": "code",
   "execution_count": 10,
   "metadata": {},
   "outputs": [
    {
     "data": {
      "text/html": [
       "\n",
       "        <div>\n",
       "            <p><b>SparkContext</b></p>\n",
       "\n",
       "            <p><a href=\"http://21906c61a2c7:4040\">Spark UI</a></p>\n",
       "\n",
       "            <dl>\n",
       "              <dt>Version</dt>\n",
       "                <dd><code>v3.0.0</code></dd>\n",
       "              <dt>Master</dt>\n",
       "                <dd><code>local[*]</code></dd>\n",
       "              <dt>AppName</dt>\n",
       "                <dd><code>pyspark-shell</code></dd>\n",
       "            </dl>\n",
       "        </div>\n",
       "        "
      ],
      "text/plain": [
       "<SparkContext master=local[*] appName=pyspark-shell>"
      ]
     },
     "execution_count": 10,
     "metadata": {},
     "output_type": "execute_result"
    }
   ],
   "source": [
    "sc"
   ]
  },
  {
   "cell_type": "markdown",
   "metadata": {},
   "source": [
    "### From RDD\n",
    "Just add a schema"
   ]
  },
  {
   "cell_type": "code",
   "execution_count": 15,
   "metadata": {},
   "outputs": [
    {
     "data": {
      "text/plain": [
       "[Row(Name='Mona', Age=20),\n",
       " Row(Name='Jennifer', Age=34),\n",
       " Row(Name='John', Age=20)]"
      ]
     },
     "execution_count": 15,
     "metadata": {},
     "output_type": "execute_result"
    }
   ],
   "source": [
    "sample_list = [('Mona',20), ('Jennifer',34), ('John',20), ('Jim',26)]\n",
    "rdd = sc.parallelize(sample_list)\n",
    "names_df = spark.createDataFrame(rdd, schema=['Name', 'Age'])\n",
    "names_df.head(3)"
   ]
  },
  {
   "cell_type": "markdown",
   "metadata": {},
   "source": [
    "### From File\n",
    "Interpret already pre-structured data"
   ]
  },
  {
   "cell_type": "code",
   "execution_count": 16,
   "metadata": {},
   "outputs": [
    {
     "data": {
      "text/plain": [
       "[Row(A=1, B='a', C='x'), Row(A=2, B='b', C='y')]"
      ]
     },
     "execution_count": 16,
     "metadata": {},
     "output_type": "execute_result"
    }
   ],
   "source": [
    "csv_df = spark.read.csv('dataframe.csv', header=True, inferSchema=True)\n",
    "csv_df.head(2)"
   ]
  },
  {
   "cell_type": "markdown",
   "metadata": {},
   "source": [
    "### Transformations and Actions\n",
    "* Very similar to pandas\n",
    "* Transform and then show"
   ]
  },
  {
   "cell_type": "code",
   "execution_count": 53,
   "metadata": {},
   "outputs": [
    {
     "name": "stdout",
     "output_type": "stream",
     "text": [
      "root\n",
      " |-- policyID: integer (nullable = true)\n",
      " |-- statecode: string (nullable = true)\n",
      " |-- county: string (nullable = true)\n",
      " |-- eq_site_limit: integer (nullable = true)\n",
      " |-- hu_site_limit: double (nullable = true)\n",
      " |-- fl_site_limit: integer (nullable = true)\n",
      " |-- fr_site_limit: double (nullable = true)\n",
      " |-- tiv_2011: double (nullable = true)\n",
      " |-- tiv_2012: double (nullable = true)\n",
      " |-- eq_site_deductible: integer (nullable = true)\n",
      " |-- hu_site_deductible: double (nullable = true)\n",
      " |-- fl_site_deductible: integer (nullable = true)\n",
      " |-- fr_site_deductible: integer (nullable = true)\n",
      " |-- point_latitude: double (nullable = true)\n",
      " |-- point_longitude: double (nullable = true)\n",
      " |-- line: string (nullable = true)\n",
      " |-- construction: string (nullable = true)\n",
      " |-- point_granularity: integer (nullable = true)\n",
      "\n"
     ]
    }
   ],
   "source": [
    "df = spark.read.csv('sql-practice.csv', header=True, inferSchema=True)\n",
    "df.printSchema()"
   ]
  },
  {
   "cell_type": "code",
   "execution_count": 54,
   "metadata": {},
   "outputs": [
    {
     "name": "stdout",
     "output_type": "stream",
     "text": [
      "root\n",
      " |-- ID: integer (nullable = true)\n",
      " |-- statecode: string (nullable = true)\n",
      " |-- county: string (nullable = true)\n",
      " |-- eq_site_limit: integer (nullable = true)\n",
      " |-- hu_site_limit: double (nullable = true)\n",
      " |-- fl_site_limit: integer (nullable = true)\n",
      " |-- fr_site_limit: double (nullable = true)\n",
      " |-- tiv_2011: double (nullable = true)\n",
      " |-- tiv_2012: double (nullable = true)\n",
      " |-- eq_site_deductible: integer (nullable = true)\n",
      " |-- hu_site_deductible: double (nullable = true)\n",
      " |-- fl_site_deductible: integer (nullable = true)\n",
      " |-- fr_site_deductible: integer (nullable = true)\n",
      " |-- point_latitude: double (nullable = true)\n",
      " |-- point_longitude: double (nullable = true)\n",
      " |-- line: string (nullable = true)\n",
      " |-- construction: string (nullable = true)\n",
      " |-- point_granularity: integer (nullable = true)\n",
      "\n"
     ]
    }
   ],
   "source": [
    "df.withColumnRenamed('policyID','ID').printSchema()"
   ]
  },
  {
   "cell_type": "code",
   "execution_count": 55,
   "metadata": {},
   "outputs": [
    {
     "name": "stdout",
     "output_type": "stream",
     "text": [
      "+--------+---------+---------------+-------------+-------------+-------------+-------------+\n",
      "|policyID|statecode|         county|eq_site_limit|hu_site_limit|fl_site_limit|fr_site_limit|\n",
      "+--------+---------+---------------+-------------+-------------+-------------+-------------+\n",
      "|  671392|       FL|    CLAY COUNTY|            0|      1.341E7|            0|          0.0|\n",
      "|  772887|       FL|    CLAY COUNTY|            0|   1669113.93|            0|          0.0|\n",
      "|  983122|       FL|    CLAY COUNTY|            0|    179562.23|            0|          0.0|\n",
      "|  934215|       FL|    CLAY COUNTY|            0|    177744.16|            0|          0.0|\n",
      "|  385951|       FL|    CLAY COUNTY|            0|     17757.58|            0|          0.0|\n",
      "|  716332|       FL|    CLAY COUNTY|            0|    130129.87|            0|          0.0|\n",
      "|  751262|       FL|    CLAY COUNTY|            0|     42854.77|            0|          0.0|\n",
      "|  633663|       FL|    CLAY COUNTY|            0|       785.58|            0|          0.0|\n",
      "|  105851|       FL|    CLAY COUNTY|            0|    170361.91|            0|          0.0|\n",
      "|  710400|       FL|    CLAY COUNTY|            0|      1430.89|            0|          0.0|\n",
      "|  703001|       FL|    CLAY COUNTY|            0|    129913.27|            0|          0.0|\n",
      "|  352792|       FL|    CLAY COUNTY|            0|    366285.62|            0|          0.0|\n",
      "|  717603|       FL|    CLAY COUNTY|            0|     22512.61|            0|          0.0|\n",
      "|  937659|       FL|SUWANNEE COUNTY|            0|       9246.6|            0|       9246.6|\n",
      "|  294022|       FL|SUWANNEE COUNTY|            0|     96164.64|            0|          0.0|\n",
      "|  410500|       FL|SUWANNEE COUNTY|            0|     11095.92|            0|          0.0|\n",
      "|  524433|       FL|SUWANNEE COUNTY|       218475|     218475.0|       218475|     218475.0|\n",
      "+--------+---------+---------------+-------------+-------------+-------------+-------------+\n",
      "\n"
     ]
    }
   ],
   "source": [
    "# Select\n",
    "df = df.select('policyID','statecode','county','eq_site_limit','hu_site_limit','fl_site_limit','fr_site_limit')\n",
    "df.show()"
   ]
  },
  {
   "cell_type": "code",
   "execution_count": 46,
   "metadata": {},
   "outputs": [
    {
     "name": "stdout",
     "output_type": "stream",
     "text": [
      "+---------+---------------+-------------+\n",
      "|statecode|         county|eq_site_limit|\n",
      "+---------+---------------+-------------+\n",
      "|       FL|    CLAY COUNTY|            0|\n",
      "|       FL|SUWANNEE COUNTY|            0|\n",
      "|       FL|SUWANNEE COUNTY|       218475|\n",
      "+---------+---------------+-------------+\n",
      "\n"
     ]
    }
   ],
   "source": [
    "# Drop duplicates\n",
    "df.select('statecode','county','eq_site_limit').drop_duplicates().show()"
   ]
  },
  {
   "cell_type": "code",
   "execution_count": 41,
   "metadata": {},
   "outputs": [
    {
     "name": "stdout",
     "output_type": "stream",
     "text": [
      "+--------+---------+---------------+-------------+-------------+-------------+-------------+\n",
      "|policyID|statecode|         county|eq_site_limit|hu_site_limit|fl_site_limit|fr_site_limit|\n",
      "+--------+---------+---------------+-------------+-------------+-------------+-------------+\n",
      "|  671392|       FL|    CLAY COUNTY|            0|      1.341E7|            0|          0.0|\n",
      "|  385951|       FL|    CLAY COUNTY|            0|     17757.58|            0|          0.0|\n",
      "|  633663|       FL|    CLAY COUNTY|            0|       785.58|            0|          0.0|\n",
      "|  105851|       FL|    CLAY COUNTY|            0|    170361.91|            0|          0.0|\n",
      "|  352792|       FL|    CLAY COUNTY|            0|    366285.62|            0|          0.0|\n",
      "|  294022|       FL|SUWANNEE COUNTY|            0|     96164.64|            0|          0.0|\n",
      "|  410500|       FL|SUWANNEE COUNTY|            0|     11095.92|            0|          0.0|\n",
      "|  524433|       FL|SUWANNEE COUNTY|       218475|     218475.0|       218475|     218475.0|\n",
      "+--------+---------+---------------+-------------+-------------+-------------+-------------+\n",
      "\n"
     ]
    }
   ],
   "source": [
    "# Filter\n",
    "df.filter(df.policyID < 700000).show()"
   ]
  },
  {
   "cell_type": "code",
   "execution_count": 43,
   "metadata": {},
   "outputs": [
    {
     "name": "stdout",
     "output_type": "stream",
     "text": [
      "+---------------+------------------+\n",
      "|         county|avg(hu_site_limit)|\n",
      "+---------------+------------------+\n",
      "|    CLAY COUNTY|1255265.5707692306|\n",
      "|SUWANNEE COUNTY| 83745.54000000001|\n",
      "+---------------+------------------+\n",
      "\n"
     ]
    }
   ],
   "source": [
    "# Group By\n",
    "df.groupby('county').mean('hu_site_limit').show()"
   ]
  },
  {
   "cell_type": "code",
   "execution_count": 45,
   "metadata": {},
   "outputs": [
    {
     "name": "stdout",
     "output_type": "stream",
     "text": [
      "+--------+---------+---------------+-------------+-------------+-------------+-------------+\n",
      "|policyID|statecode|         county|eq_site_limit|hu_site_limit|fl_site_limit|fr_site_limit|\n",
      "+--------+---------+---------------+-------------+-------------+-------------+-------------+\n",
      "|  105851|       FL|    CLAY COUNTY|            0|    170361.91|            0|          0.0|\n",
      "|  294022|       FL|SUWANNEE COUNTY|            0|     96164.64|            0|          0.0|\n",
      "|  352792|       FL|    CLAY COUNTY|            0|    366285.62|            0|          0.0|\n",
      "|  385951|       FL|    CLAY COUNTY|            0|     17757.58|            0|          0.0|\n",
      "|  410500|       FL|SUWANNEE COUNTY|            0|     11095.92|            0|          0.0|\n",
      "+--------+---------+---------------+-------------+-------------+-------------+-------------+\n",
      "only showing top 5 rows\n",
      "\n"
     ]
    }
   ],
   "source": [
    "# Order By\n",
    "df.orderBy('policyID').show(5)"
   ]
  },
  {
   "cell_type": "markdown",
   "metadata": {},
   "source": [
    "### SQL"
   ]
  },
  {
   "cell_type": "code",
   "execution_count": 58,
   "metadata": {},
   "outputs": [],
   "source": [
    "# Create \"SQL table\"\n",
    "df.createOrReplaceTempView('table1')"
   ]
  },
  {
   "cell_type": "code",
   "execution_count": 60,
   "metadata": {},
   "outputs": [
    {
     "name": "stdout",
     "output_type": "stream",
     "text": [
      "+--------+---------+---------------+-------------+-------------+-------------+-------------+\n",
      "|policyID|statecode|         county|eq_site_limit|hu_site_limit|fl_site_limit|fr_site_limit|\n",
      "+--------+---------+---------------+-------------+-------------+-------------+-------------+\n",
      "|  671392|       FL|    CLAY COUNTY|            0|      1.341E7|            0|          0.0|\n",
      "|  772887|       FL|    CLAY COUNTY|            0|   1669113.93|            0|          0.0|\n",
      "|  983122|       FL|    CLAY COUNTY|            0|    179562.23|            0|          0.0|\n",
      "|  934215|       FL|    CLAY COUNTY|            0|    177744.16|            0|          0.0|\n",
      "|  385951|       FL|    CLAY COUNTY|            0|     17757.58|            0|          0.0|\n",
      "|  716332|       FL|    CLAY COUNTY|            0|    130129.87|            0|          0.0|\n",
      "|  751262|       FL|    CLAY COUNTY|            0|     42854.77|            0|          0.0|\n",
      "|  633663|       FL|    CLAY COUNTY|            0|       785.58|            0|          0.0|\n",
      "|  105851|       FL|    CLAY COUNTY|            0|    170361.91|            0|          0.0|\n",
      "|  710400|       FL|    CLAY COUNTY|            0|      1430.89|            0|          0.0|\n",
      "|  703001|       FL|    CLAY COUNTY|            0|    129913.27|            0|          0.0|\n",
      "|  352792|       FL|    CLAY COUNTY|            0|    366285.62|            0|          0.0|\n",
      "|  717603|       FL|    CLAY COUNTY|            0|     22512.61|            0|          0.0|\n",
      "|  937659|       FL|SUWANNEE COUNTY|            0|       9246.6|            0|       9246.6|\n",
      "|  294022|       FL|SUWANNEE COUNTY|            0|     96164.64|            0|          0.0|\n",
      "|  410500|       FL|SUWANNEE COUNTY|            0|     11095.92|            0|          0.0|\n",
      "|  524433|       FL|SUWANNEE COUNTY|       218475|     218475.0|       218475|     218475.0|\n",
      "+--------+---------+---------------+-------------+-------------+-------------+-------------+\n",
      "\n"
     ]
    }
   ],
   "source": [
    "# SQL Query to Dataframe\n",
    "spark.sql('SELECT * FROM TABLE1').show()"
   ]
  },
  {
   "cell_type": "code",
   "execution_count": null,
   "metadata": {},
   "outputs": [],
   "source": []
  },
  {
   "cell_type": "code",
   "execution_count": null,
   "metadata": {},
   "outputs": [],
   "source": []
  },
  {
   "cell_type": "code",
   "execution_count": null,
   "metadata": {},
   "outputs": [],
   "source": []
  },
  {
   "cell_type": "code",
   "execution_count": null,
   "metadata": {},
   "outputs": [],
   "source": []
  },
  {
   "cell_type": "code",
   "execution_count": null,
   "metadata": {},
   "outputs": [],
   "source": []
  },
  {
   "cell_type": "code",
   "execution_count": null,
   "metadata": {},
   "outputs": [],
   "source": []
  }
 ],
 "metadata": {
  "kernelspec": {
   "display_name": "Python 3",
   "language": "python",
   "name": "python3"
  },
  "language_info": {
   "codemirror_mode": {
    "name": "ipython",
    "version": 3
   },
   "file_extension": ".py",
   "mimetype": "text/x-python",
   "name": "python",
   "nbconvert_exporter": "python",
   "pygments_lexer": "ipython3",
   "version": "3.8.4"
  }
 },
 "nbformat": 4,
 "nbformat_minor": 4
}
