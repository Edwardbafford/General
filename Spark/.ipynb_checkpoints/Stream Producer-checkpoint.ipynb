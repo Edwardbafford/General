{
 "cells": [
  {
   "cell_type": "code",
   "execution_count": 4,
   "metadata": {},
   "outputs": [],
   "source": [
    "import argparse\n",
    "import os\n",
    "import boto3\n",
    "import json\n",
    "from datetime import datetime\n",
    "import random\n",
    "import time\n",
    "import uuid"
   ]
  },
  {
   "cell_type": "code",
   "execution_count": 5,
   "metadata": {},
   "outputs": [
    {
     "data": {
      "text/plain": [
       "[{'StreamName': 'spark-practice',\n",
       "  'StreamARN': 'arn:aws:kinesis:us-west-2:403644602806:stream/spark-practice',\n",
       "  'OpenShardCount': 3,\n",
       "  'shards': [{'ShardId': 'shardId-000000000000',\n",
       "    'HashKeyRange': {'StartingHashKey': '0',\n",
       "     'EndingHashKey': '113427455640312821154458202477256070484'},\n",
       "    'SequenceNumberRange': {'StartingSequenceNumber': '49600006230285193018294798654067776114035449609093906434'}},\n",
       "   {'ShardId': 'shardId-000000000001',\n",
       "    'HashKeyRange': {'StartingHashKey': '113427455640312821154458202477256070485',\n",
       "     'EndingHashKey': '226854911280625642308916404954512140969'},\n",
       "    'SequenceNumberRange': {'StartingSequenceNumber': '49600006230307493763493329277209311832308097970599886866'}},\n",
       "   {'ShardId': 'shardId-000000000002',\n",
       "    'HashKeyRange': {'StartingHashKey': '226854911280625642308916404954512140970',\n",
       "     'EndingHashKey': '340282366920938463463374607431768211455'},\n",
       "    'SequenceNumberRange': {'StartingSequenceNumber': '49600006230329794508691859900350847550580746332105867298'}}]}]"
      ]
     },
     "execution_count": 5,
     "metadata": {},
     "output_type": "execute_result"
    }
   ],
   "source": [
    "#Get available streams\n",
    "\n",
    "client = boto3.client('kinesis', region_name='us-west-2')\n",
    "result = client.list_streams()\n",
    "streams = []\n",
    "\n",
    "if 'StreamNames' in result:\n",
    "    for st in result['StreamNames']:\n",
    "        record = {}\n",
    "        details = client.describe_stream_summary(\n",
    "            StreamName=st)['StreamDescriptionSummary']\n",
    "        record['StreamName'] = st\n",
    "        record['StreamARN'] = details['StreamARN']\n",
    "        record['OpenShardCount'] = details['OpenShardCount']\n",
    "        shards_info = client.list_shards(StreamName=st)\n",
    "        record['shards'] = shards_info['Shards']\n",
    "        streams.append(record)\n",
    "\n",
    "streams"
   ]
  },
  {
   "cell_type": "code",
   "execution_count": 6,
   "metadata": {},
   "outputs": [
    {
     "data": {
      "text/plain": [
       "['aws-emr-resources-403644602806-us-west-2',\n",
       " 'aws-logs-403644602806-us-west-2',\n",
       " 'elasticbeanstalk-us-west-2-403644602806',\n",
       " 'flower-357',\n",
       " 'spark-processed-357']"
      ]
     },
     "execution_count": 6,
     "metadata": {},
     "output_type": "execute_result"
    }
   ],
   "source": [
    "# Get buckets\n",
    "\n",
    "result = []\n",
    "client = boto3.client('s3')\n",
    "bucket_list = client.list_buckets()\n",
    "if 'Buckets' in bucket_list:\n",
    "    result = [\n",
    "     b['Name'] for b in bucket_list['Buckets']\n",
    "    ]\n",
    "\n",
    "result"
   ]
  },
  {
   "cell_type": "code",
   "execution_count": 7,
   "metadata": {},
   "outputs": [],
   "source": [
    "#Helper functions\n",
    "\n",
    "def get_line():\n",
    "    random.seed(datetime.utcnow().microsecond)\n",
    "    dt = datetime.utcnow()\\\n",
    "        .strftime('%Y-%m-%d %H:%M:%S.%f')\n",
    "    event = random.choice(['event1', 'event2', 'event3'])\n",
    "    return '{};{}'.format(dt, event)\n",
    "\n",
    "\n",
    "def randomize_interval(interval):\n",
    "    random.seed(datetime.utcnow().microsecond)\n",
    "    delta = interval + random.uniform(-0.1, 0.9)\n",
    "    if delta <= 0:\n",
    "        delta = interval\n",
    "    return delta"
   ]
  },
  {
   "cell_type": "code",
   "execution_count": 8,
   "metadata": {},
   "outputs": [
    {
     "name": "stdout",
     "output_type": "stream",
     "text": [
      "Record stored in shard shardId-000000000000\n",
      "Record stored in shard shardId-000000000001\n",
      "Record stored in shard shardId-000000000002\n",
      "Record stored in shard shardId-000000000001\n",
      "Record stored in shard shardId-000000000002\n",
      "Record stored in shard shardId-000000000000\n",
      "Record stored in shard shardId-000000000000\n",
      "Record stored in shard shardId-000000000001\n",
      "Record stored in shard shardId-000000000001\n",
      "Record stored in shard shardId-000000000000\n",
      "Record stored in shard shardId-000000000001\n",
      "Record stored in shard shardId-000000000002\n",
      "Record stored in shard shardId-000000000002\n",
      "Record stored in shard shardId-000000000001\n",
      "Record stored in shard shardId-000000000000\n",
      "Record stored in shard shardId-000000000000\n",
      "Record stored in shard shardId-000000000002\n",
      "Record stored in shard shardId-000000000002\n",
      "Record stored in shard shardId-000000000002\n",
      "Record stored in shard shardId-000000000000\n",
      "Record stored in shard shardId-000000000000\n",
      "Record stored in shard shardId-000000000000\n",
      "Record stored in shard shardId-000000000002\n",
      "Record stored in shard shardId-000000000002\n",
      "Record stored in shard shardId-000000000001\n",
      "Record stored in shard shardId-000000000000\n",
      "Record stored in shard shardId-000000000001\n",
      "Record stored in shard shardId-000000000000\n",
      "Record stored in shard shardId-000000000002\n",
      "Record stored in shard shardId-000000000000\n",
      "Record stored in shard shardId-000000000002\n",
      "Record stored in shard shardId-000000000000\n",
      "Record stored in shard shardId-000000000000\n",
      "Record stored in shard shardId-000000000000\n",
      "Record stored in shard shardId-000000000002\n",
      "Record stored in shard shardId-000000000001\n",
      "Record stored in shard shardId-000000000001\n",
      "Record stored in shard shardId-000000000000\n",
      "Record stored in shard shardId-000000000001\n",
      "Record stored in shard shardId-000000000002\n",
      "Record stored in shard shardId-000000000000\n",
      "Record stored in shard shardId-000000000002\n",
      "Record stored in shard shardId-000000000001\n",
      "Record stored in shard shardId-000000000000\n",
      "Record stored in shard shardId-000000000002\n",
      "Record stored in shard shardId-000000000001\n",
      "Record stored in shard shardId-000000000000\n",
      "Record stored in shard shardId-000000000002\n",
      "Record stored in shard shardId-000000000002\n",
      "Record stored in shard shardId-000000000001\n"
     ]
    }
   ],
   "source": [
    "client = boto3.client('kinesis', region_name='us-west-2')\n",
    "\n",
    "for i in range(50):\n",
    "    line = get_line()\n",
    "    payload = {\n",
    "        'value': line,\n",
    "        'timestamp': str(datetime.utcnow()),\n",
    "        'id': str(uuid.uuid4())\n",
    "    }\n",
    "\n",
    "    r = client.put_record(\n",
    "        StreamName='spark-practice',\n",
    "        Data=json.dumps(payload),\n",
    "        PartitionKey=str(uuid.uuid4())\n",
    "    )\n",
    "    print('Record stored in shard {}'.format(r['ShardId']))\n",
    "    time.sleep(randomize_interval(1))"
   ]
  },
  {
   "cell_type": "code",
   "execution_count": null,
   "metadata": {},
   "outputs": [],
   "source": []
  },
  {
   "cell_type": "code",
   "execution_count": null,
   "metadata": {},
   "outputs": [],
   "source": []
  },
  {
   "cell_type": "code",
   "execution_count": null,
   "metadata": {},
   "outputs": [],
   "source": []
  },
  {
   "cell_type": "code",
   "execution_count": null,
   "metadata": {},
   "outputs": [],
   "source": []
  },
  {
   "cell_type": "code",
   "execution_count": null,
   "metadata": {},
   "outputs": [],
   "source": []
  },
  {
   "cell_type": "code",
   "execution_count": null,
   "metadata": {},
   "outputs": [],
   "source": []
  },
  {
   "cell_type": "code",
   "execution_count": null,
   "metadata": {},
   "outputs": [],
   "source": []
  },
  {
   "cell_type": "code",
   "execution_count": null,
   "metadata": {},
   "outputs": [],
   "source": []
  },
  {
   "cell_type": "code",
   "execution_count": null,
   "metadata": {},
   "outputs": [],
   "source": []
  },
  {
   "cell_type": "code",
   "execution_count": null,
   "metadata": {},
   "outputs": [],
   "source": []
  },
  {
   "cell_type": "code",
   "execution_count": null,
   "metadata": {},
   "outputs": [],
   "source": []
  }
 ],
 "metadata": {
  "kernelspec": {
   "display_name": "Python 3",
   "language": "python",
   "name": "python3"
  },
  "language_info": {
   "codemirror_mode": {
    "name": "ipython",
    "version": 3
   },
   "file_extension": ".py",
   "mimetype": "text/x-python",
   "name": "python",
   "nbconvert_exporter": "python",
   "pygments_lexer": "ipython3",
   "version": "3.6.9"
  }
 },
 "nbformat": 4,
 "nbformat_minor": 2
}
