{
 "cells": [
  {
   "cell_type": "code",
   "execution_count": 3,
   "metadata": {},
   "outputs": [
    {
     "name": "stdout",
     "output_type": "stream",
     "text": [
      "Collecting pyspark-dist-explore\n",
      "  Downloading pyspark_dist_explore-0.1.8-py3-none-any.whl (7.2 kB)\n",
      "Requirement already satisfied: matplotlib in /opt/conda/lib/python3.8/site-packages (from pyspark-dist-explore) (3.2.2)\n",
      "Requirement already satisfied: scipy in /opt/conda/lib/python3.8/site-packages (from pyspark-dist-explore) (1.4.1)\n",
      "Requirement already satisfied: numpy in /opt/conda/lib/python3.8/site-packages (from pyspark-dist-explore) (1.19.0)\n",
      "Requirement already satisfied: pandas in /opt/conda/lib/python3.8/site-packages (from pyspark-dist-explore) (1.0.5)\n",
      "Requirement already satisfied: cycler>=0.10 in /opt/conda/lib/python3.8/site-packages (from matplotlib->pyspark-dist-explore) (0.10.0)\n",
      "Requirement already satisfied: python-dateutil>=2.1 in /opt/conda/lib/python3.8/site-packages (from matplotlib->pyspark-dist-explore) (2.8.1)\n",
      "Requirement already satisfied: kiwisolver>=1.0.1 in /opt/conda/lib/python3.8/site-packages (from matplotlib->pyspark-dist-explore) (1.2.0)\n",
      "Requirement already satisfied: pyparsing!=2.0.4,!=2.1.2,!=2.1.6,>=2.0.1 in /opt/conda/lib/python3.8/site-packages (from matplotlib->pyspark-dist-explore) (2.4.7)\n",
      "Requirement already satisfied: pytz>=2017.2 in /opt/conda/lib/python3.8/site-packages (from pandas->pyspark-dist-explore) (2020.1)\n",
      "Requirement already satisfied: six in /opt/conda/lib/python3.8/site-packages (from cycler>=0.10->matplotlib->pyspark-dist-explore) (1.15.0)\n",
      "Installing collected packages: pyspark-dist-explore\n",
      "Successfully installed pyspark-dist-explore-0.1.8\n",
      "Note: you may need to restart the kernel to use updated packages.\n"
     ]
    }
   ],
   "source": [
    "pip install pyspark-dist-explore"
   ]
  },
  {
   "cell_type": "code",
   "execution_count": 1,
   "metadata": {},
   "outputs": [],
   "source": [
    "from pyspark.sql import SparkSession\n",
    "spark  = SparkSession.builder.master(\"local\").getOrCreate()\n",
    "sc = spark.sparkContext"
   ]
  },
  {
   "cell_type": "code",
   "execution_count": 4,
   "metadata": {},
   "outputs": [
    {
     "name": "stdout",
     "output_type": "stream",
     "text": [
      "+--------+---------+---------------+-------------+-------------+-------------+-------------+\n",
      "|policyID|statecode|         county|eq_site_limit|hu_site_limit|fl_site_limit|fr_site_limit|\n",
      "+--------+---------+---------------+-------------+-------------+-------------+-------------+\n",
      "|  671392|       FL|    CLAY COUNTY|            0|      1.341E7|            0|          0.0|\n",
      "|  772887|       FL|    CLAY COUNTY|            0|   1669113.93|            0|          0.0|\n",
      "|  983122|       FL|    CLAY COUNTY|            0|    179562.23|            0|          0.0|\n",
      "|  934215|       FL|    CLAY COUNTY|            0|    177744.16|            0|          0.0|\n",
      "|  385951|       FL|    CLAY COUNTY|            0|     17757.58|            0|          0.0|\n",
      "|  716332|       FL|    CLAY COUNTY|            0|    130129.87|            0|          0.0|\n",
      "|  751262|       FL|    CLAY COUNTY|            0|     42854.77|            0|          0.0|\n",
      "|  633663|       FL|    CLAY COUNTY|            0|       785.58|            0|          0.0|\n",
      "|  105851|       FL|    CLAY COUNTY|            0|    170361.91|            0|          0.0|\n",
      "|  710400|       FL|    CLAY COUNTY|            0|      1430.89|            0|          0.0|\n",
      "|  703001|       FL|    CLAY COUNTY|            0|    129913.27|            0|          0.0|\n",
      "|  352792|       FL|    CLAY COUNTY|            0|    366285.62|            0|          0.0|\n",
      "|  717603|       FL|    CLAY COUNTY|            0|     22512.61|            0|          0.0|\n",
      "|  937659|       FL|SUWANNEE COUNTY|            0|       9246.6|            0|       9246.6|\n",
      "|  294022|       FL|SUWANNEE COUNTY|            0|     96164.64|            0|          0.0|\n",
      "|  410500|       FL|SUWANNEE COUNTY|            0|     11095.92|            0|          0.0|\n",
      "|  524433|       FL|SUWANNEE COUNTY|       218475|     218475.0|       218475|     218475.0|\n",
      "+--------+---------+---------------+-------------+-------------+-------------+-------------+\n",
      "\n"
     ]
    }
   ],
   "source": [
    "df = spark.read.csv('sql-practice.csv', header=True, inferSchema=True)\n",
    "df = df.select('policyID','statecode','county','eq_site_limit','hu_site_limit','fl_site_limit','fr_site_limit')\n",
    "df.show()"
   ]
  },
  {
   "cell_type": "markdown",
   "metadata": {},
   "source": [
    "### pyspark_dist_explore"
   ]
  },
  {
   "cell_type": "code",
   "execution_count": 14,
   "metadata": {},
   "outputs": [],
   "source": [
    "import matplotlib.pyplot as plt\n",
    "from pyspark_dist_explore import hist, distplot"
   ]
  },
  {
   "cell_type": "code",
   "execution_count": 17,
   "metadata": {},
   "outputs": [
    {
     "data": {
      "image/png": "[encoded data removed]",
      "text/plain": [
       "<Figure size 432x288 with 1 Axes>"
      ]
     },
     "metadata": {
      "needs_background": "light"
     },
     "output_type": "display_data"
    }
   ],
   "source": [
    "fig, ax = plt.subplots()\n",
    "_ = hist(ax, df.select('policyID'), bins = 20, color='red')"
   ]
  },
  {
   "cell_type": "markdown",
   "metadata": {},
   "source": [
    "### Pandas"
   ]
  },
  {
   "cell_type": "code",
   "execution_count": 8,
   "metadata": {},
   "outputs": [
    {
     "data": {
      "image/png": "[encoded data removed]",
      "text/plain": [
       "<Figure size 432x288 with 1 Axes>"
      ]
     },
     "metadata": {
      "needs_background": "light"
     },
     "output_type": "display_data"
    }
   ],
   "source": [
    "_ = df.toPandas().hist('policyID')"
   ]
  },
  {
   "cell_type": "code",
   "execution_count": null,
   "metadata": {},
   "outputs": [],
   "source": []
  },
  {
   "cell_type": "code",
   "execution_count": null,
   "metadata": {},
   "outputs": [],
   "source": []
  },
  {
   "cell_type": "code",
   "execution_count": null,
   "metadata": {},
   "outputs": [],
   "source": []
  },
  {
   "cell_type": "code",
   "execution_count": null,
   "metadata": {},
   "outputs": [],
   "source": []
  },
  {
   "cell_type": "code",
   "execution_count": null,
   "metadata": {},
   "outputs": [],
   "source": []
  },
  {
   "cell_type": "code",
   "execution_count": null,
   "metadata": {},
   "outputs": [],
   "source": []
  }
 ],
 "metadata": {
  "kernelspec": {
   "display_name": "Python 3",
   "language": "python",
   "name": "python3"
  },
  "language_info": {
   "codemirror_mode": {
    "name": "ipython",
    "version": 3
   },
   "file_extension": ".py",
   "mimetype": "text/x-python",
   "name": "python",
   "nbconvert_exporter": "python",
   "pygments_lexer": "ipython3",
   "version": "3.8.4"
  }
 },
 "nbformat": 4,
 "nbformat_minor": 4
}
